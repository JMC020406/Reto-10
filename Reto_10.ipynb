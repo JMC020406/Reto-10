{
 "cells": [
  {
   "cell_type": "markdown",
   "metadata": {},
   "source": [
    "# Reto 10\n",
    "## Listas y Arreglos\n",
    "### Punto 1 / Desarrollar un algoritmo que calcule el promedio de un arreglo de reales."
   ]
  },
  {
   "cell_type": "code",
   "execution_count": null,
   "metadata": {},
   "outputs": [],
   "source": [
    "suma = 0\n",
    "a = 0\n",
    "lista = []\n",
    "cantidad = int(input(\"Cuantos numeros va a ingresar: \"))\n",
    "\n",
    "for i in range(cantidad):\n",
    "    a = float(input(\"Ingrese un numero: \"))\n",
    "    suma += a\n",
    "    promedio = suma / cantidad\n",
    "    lista.append(a)\n",
    "        \n",
    "\n",
    "print(f\"El promedio de la lista {lista} es {promedio}\")"
   ]
  },
  {
   "cell_type": "markdown",
   "metadata": {},
   "source": [
    "### Punto 2 / Desarrollar un algoritmo que calcule el producto punto de dos arreglos de números enteros (reales) de igual tamaño."
   ]
  },
  {
   "cell_type": "code",
   "execution_count": null,
   "metadata": {},
   "outputs": [],
   "source": [
    "A = []\n",
    "B = []\n",
    "elemento = int\n",
    "producto_punto = 0\n",
    "cantidad = int(input(\"Cuantos numeros va a ingresar: \"))\n",
    "\n",
    "for i in range(cantidad):\n",
    "    a = float(input(\"Ingrese el elemento de A: \"))\n",
    "    A.append (a)\n",
    "    \n",
    "for i in range(cantidad):\n",
    "    b = float(input(\"Ingrese el elemento de B: \"))\n",
    "    B.append (b)\n",
    "\n",
    "print(\"______________________________________________________________\")\n",
    "print(f\"Vector A = {A}\") \n",
    "print(f\"Vector B = {B}\")\n",
    "\n",
    "for i in range(cantidad):\n",
    "    multi = (A[i]) * (B[i])\n",
    "    producto_punto += multi\n",
    "\n",
    "print(f\"El producto punto de A x B = {producto_punto}\")"
   ]
  },
  {
   "cell_type": "markdown",
   "metadata": {},
   "source": [
    "### Punto 3 / Hacer un algoritmo que deje al final de un arreglo de números todos los ceros que aparezcan en dicho arreglo."
   ]
  },
  {
   "cell_type": "code",
   "execution_count": null,
   "metadata": {},
   "outputs": [],
   "source": [
    "lista = []\n",
    "cantidad = int(input(\"Cuantos numeros piensa ingresar: \"))\n",
    "\n",
    "for i in range(cantidad):\n",
    "    elemento = float(input(f\"Ingrese elemento n°{i}: \"))\n",
    "    lista.append (elemento)\n",
    "\n",
    "print (f\"Arreglo A = {lista}\")\n",
    "\n",
    "for i in range(cantidad):\n",
    "    if (lista[i]) == 0:\n",
    "        lista.append (0)\n",
    "        lista.remove (0)\n",
    "\n",
    "print(f\"En la lista habian {lista.count(0)} ceros y si se mandan al final el arreglo queda tal que: {lista}\")"
   ]
  }
 ],
 "metadata": {
  "language_info": {
   "name": "python"
  }
 },
 "nbformat": 4,
 "nbformat_minor": 2
}
